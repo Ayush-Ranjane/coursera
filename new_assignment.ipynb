{
 "cells": [
  {
   "cell_type": "markdown",
   "id": "96055860-8a84-47ac-88ba-755fed2b096a",
   "metadata": {},
   "source": [
    "# Pyhton"
   ]
  },
  {
   "cell_type": "markdown",
   "id": "4352c4a1-f534-41f0-955b-2393e6349541",
   "metadata": {},
   "source": [
    "pyhton is programing language"
   ]
  },
  {
   "cell_type": "markdown",
   "id": "acc11693-1be4-44b8-9bd9-07e2968bc858",
   "metadata": {},
   "source": [
    "Some of the popular function:\n",
    "\n",
    "1. Print\n",
    "2. if\n",
    "3. else\n",
    "4. while"
   ]
  },
  {
   "cell_type": "markdown",
   "id": "24ded8f0-9ca7-4a8b-b9c7-77c8062a31d6",
   "metadata": {},
   "source": [
    "Some of the commonly used libraries used by Data Scientists include:\n",
    "\n",
    "1.  **Pandas**: A powerful library for data manipulation\n",
    "2.  **NumPy**: The fundamental package for numerical computing\n",
    "3.  **Matplotlib**: A comprehensive library for creating static\n",
    "4.  **Scikit-learn**: A robust and widely used machine learning \n",
    "5.  **Seaborn**: Built on top of Matplotlib"
   ]
  },
  {
   "cell_type": "markdown",
   "id": "54a649f8-32b8-41e4-adea-4225b26a22ca",
   "metadata": {},
   "source": [
    "| python ide |\n",
    "|---------------------|\n",
    "| Vs code    |\n",
    "| pycharm             |"
   ]
  },
  {
   "cell_type": "markdown",
   "id": "7af73dd9-fbb8-45a7-8c74-1d487776a8ca",
   "metadata": {},
   "source": [
    "### Below are a few examples of printing in Python."
   ]
  },
  {
   "cell_type": "code",
   "execution_count": 7,
   "id": "4a8fc991-2bf3-4a13-ae51-4b2156888d8e",
   "metadata": {},
   "outputs": [
    {
     "data": {
      "text/plain": [
       "17"
      ]
     },
     "execution_count": 7,
     "metadata": {},
     "output_type": "execute_result"
    }
   ],
   "source": [
    "# This is a simple arithmetic expression to multiply then add integers\n",
    "result = (3 * 4) + 5\n",
    "result"
   ]
  },
  {
   "cell_type": "code",
   "execution_count": 6,
   "id": "2dd58f42-f55f-4517-bb01-013ac2ee3343",
   "metadata": {},
   "outputs": [
    {
     "data": {
      "text/plain": [
       "3.3333333333333335"
      ]
     },
     "execution_count": 6,
     "metadata": {},
     "output_type": "execute_result"
    }
   ],
   "source": [
    "# This will convert 200 minutes to hours by dividing by 60\n",
    "minutes = 200\n",
    "hours = minutes / 60\n",
    "hours"
   ]
  },
  {
   "cell_type": "markdown",
   "id": "bcd04801-b74f-45f1-ac95-24f37196e559",
   "metadata": {},
   "source": [
    "**Objectives:**\n",
    "\n",
    "- Understand basic Python syntax and semantics  \n",
    "- Perform arithmetic operations using Python  \n",
    "- Work with variables and data types  \n",
    "- Convert values between different units (e.g., minutes to hours)  \n",
    "- Practice writing and executing Python code cells in Jupyter Notebook  \n"
   ]
  },
  {
   "cell_type": "markdown",
   "id": "fbaf9efe-dd40-415b-ae32-2abb43e9eb08",
   "metadata": {},
   "source": [
    "## Author  \n",
    "\n",
    "Ayush Ranjane"
   ]
  }
 ],
 "metadata": {
  "kernelspec": {
   "display_name": "Python 3 (ipykernel)",
   "language": "python",
   "name": "python3"
  },
  "language_info": {
   "codemirror_mode": {
    "name": "ipython",
    "version": 3
   },
   "file_extension": ".py",
   "mimetype": "text/x-python",
   "name": "python",
   "nbconvert_exporter": "python",
   "pygments_lexer": "ipython3",
   "version": "3.12.4"
  }
 },
 "nbformat": 4,
 "nbformat_minor": 5
}
